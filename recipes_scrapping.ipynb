{
 "cells": [
  {
   "cell_type": "code",
   "execution_count": 38,
   "metadata": {},
   "outputs": [],
   "source": [
    "import pandas as pd\n",
    "import numpy as np\n",
    "import requests\n",
    "from bs4 import BeautifulSoup\n",
    "from time import sleep\n",
    "from tqdm import tqdm\n",
    "import os.path\n",
    "from os import listdir\n",
    "from os.path import isfile, join\n",
    "import matplotlib.pyplot as plt"
   ]
  },
  {
   "cell_type": "code",
   "execution_count": 44,
   "metadata": {},
   "outputs": [],
   "source": [
    "def get_all_recipes():\n",
    "    item_files = [f for f in listdir('./data/TimeSeries') if isfile(join('./data/TimeSeries', f))] \n",
    "    ids = [item_file[:-5].split('_')[-1] for item_file in item_files]\n",
    "    all_recipes = {}\n",
    "    for item_id in tqdm(ids):\n",
    "        raw_xml = load_item(item_id)\n",
    "        all_recipes = {**all_recipes, **get_reagents_from_xml(raw_xml, item_id)}\n",
    "    return all_recipes\n",
    "\n",
    "def get_reagents_from_xml(raw_xml, item_id):\n",
    "    \"\"\"\n",
    "    Get all reageants for all recipes of one item.\n",
    "    \"\"\"\n",
    "    soup = BeautifulSoup(raw_xml, \"lxml\")\n",
    "    # Get item name\n",
    "    name = soup.find('b', class_ = 'q1')\n",
    "    if name is None:\n",
    "        name = soup.find('b', class_ = 'q2')\n",
    "    if name is None:\n",
    "        name = soup.find('b', class_ = 'q3')\n",
    "    name = name.text\n",
    "    # Get each recipe (spell)\n",
    "    createdby = soup.find('createdby')\n",
    "    if createdby is None:\n",
    "        return  {item_id: (name, [])}\n",
    "    spells = createdby.find_all('spell')\n",
    "    # Get each reagent in each recipe\n",
    "    reagent_lists = [spell.find_all('reagent') for spell in spells]\n",
    "    return {item_id: (name, reagent_lists)}\n",
    "\n",
    "def load_item(item_id):\n",
    "    \"\"\"\n",
    "    Load an item from local or from WowHead API.\n",
    "    \"\"\"\n",
    "    file_name = './data/item_{}.xml'.format(item_id)\n",
    "    url = 'https://www.wowhead.com/item={}&xml'.format(item_id)\n",
    "    if os.path.isfile(file_name):\n",
    "        f = open(file_name, \"r\")\n",
    "        raw_xml = f.read()\n",
    "        f.close()\n",
    "    else:\n",
    "        print('Downloading item {}'.format(item_id))\n",
    "        sleep(30)\n",
    "        raw_xml = requests.get(url).text\n",
    "        with open(file_name, 'w') as outfile:\n",
    "            outfile.write(raw_xml)\n",
    "    return raw_xml"
   ]
  },
  {
   "cell_type": "code",
   "execution_count": 46,
   "metadata": {
    "tags": []
   },
   "outputs": [
    {
     "output_type": "stream",
     "name": "stderr",
     "text": "46%|████▌     | 66/145 [00:00<00:00, 655.39it/s]Downloading item 163223\n 46%|████▌     | 67/145 [00:30<11:44,  9.03s/it]Downloading item 163224\n 47%|████▋     | 68/145 [01:01<20:07, 15.69s/it]Downloading item 163225\n 48%|████▊     | 69/145 [01:32<25:38, 20.24s/it]Downloading item 165721\n 48%|████▊     | 70/145 [02:03<29:16, 23.42s/it]Downloading item 165744\n 49%|████▉     | 71/145 [02:34<31:43, 25.73s/it]Downloading item 166270\n 50%|████▉     | 72/145 [03:05<33:10, 27.27s/it]Downloading item 168487\n 50%|█████     | 73/145 [03:35<33:59, 28.33s/it]Downloading item 168489\n 51%|█████     | 74/145 [04:06<34:24, 29.08s/it]Downloading item 168498\n 52%|█████▏    | 75/145 [04:37<34:37, 29.68s/it]Downloading item 168499\n 52%|█████▏    | 76/145 [05:08<34:31, 30.02s/it]Downloading item 168500\n 53%|█████▎    | 77/145 [05:39<34:20, 30.30s/it]Downloading item 168501\n 54%|█████▍    | 78/145 [06:10<34:00, 30.46s/it]Downloading item 168506\n 54%|█████▍    | 79/145 [06:41<33:36, 30.55s/it]Downloading item 168529\n 55%|█████▌    | 80/145 [07:11<33:10, 30.62s/it]Downloading item 168651\n 56%|█████▌    | 81/145 [07:42<32:43, 30.68s/it]Downloading item 168652\n 57%|█████▋    | 82/145 [08:13<32:17, 30.76s/it]Downloading item 168653\n 57%|█████▋    | 83/145 [08:43<31:34, 30.56s/it]Downloading item 169299\n 59%|█████▊    | 85/145 [09:14<26:01, 26.03s/it]Downloading item 169300\n 59%|█████▉    | 86/145 [09:45<27:01, 27.49s/it]Downloading item 169451\n 60%|██████    | 87/145 [10:16<27:32, 28.50s/it]Downloading item 22710\n 61%|██████    | 88/145 [10:47<27:45, 29.22s/it]Downloading item 22785\n 61%|██████▏   | 89/145 [11:18<27:43, 29.70s/it]Downloading item 22786\n 62%|██████▏   | 90/145 [11:49<27:32, 30.05s/it]Downloading item 22787\n 63%|██████▎   | 91/145 [12:19<27:14, 30.26s/it]Downloading item 22788\n 63%|██████▎   | 92/145 [12:50<26:53, 30.44s/it]Downloading item 22789\n 64%|██████▍   | 93/145 [13:21<26:29, 30.56s/it]Downloading item 22790\n 65%|██████▍   | 94/145 [13:52<26:05, 30.70s/it]Downloading item 22791\n 66%|██████▌   | 95/145 [14:23<25:36, 30.73s/it]Downloading item 22792\n 66%|██████▌   | 96/145 [14:54<25:07, 30.76s/it]Downloading item 22793\n 67%|██████▋   | 97/145 [15:25<24:37, 30.78s/it]Downloading item 22794\n 68%|██████▊   | 98/145 [15:56<24:11, 30.89s/it]Downloading item 22797\n 68%|██████▊   | 99/145 [16:27<23:40, 30.87s/it]Downloading item 2447\n 69%|██████▉   | 100/145 [16:57<22:58, 30.64s/it]Downloading item 2449\n 70%|██████▉   | 101/145 [17:27<22:29, 30.68s/it]Downloading item 2450\n 70%|███████   | 102/145 [17:58<22:01, 30.72s/it]Downloading item 2452\n 71%|███████   | 103/145 [18:29<21:32, 30.79s/it]Downloading item 2453\n 72%|███████▏  | 104/145 [19:00<21:02, 30.78s/it]Downloading item 3355\n 72%|███████▏  | 105/145 [19:31<20:31, 30.80s/it]Downloading item 3356\n 73%|███████▎  | 106/145 [20:02<20:03, 30.85s/it]Downloading item 3357\n 74%|███████▍  | 107/145 [20:33<19:38, 31.02s/it]Downloading item 3358\n 74%|███████▍  | 108/145 [21:04<19:07, 31.00s/it]Downloading item 3369\n 75%|███████▌  | 109/145 [21:35<18:36, 31.00s/it]Downloading item 36901\n 76%|███████▌  | 110/145 [22:06<18:05, 31.01s/it]Downloading item 36903\n 77%|███████▋  | 111/145 [22:37<17:33, 30.97s/it]Downloading item 36904\n 77%|███████▋  | 112/145 [23:08<17:01, 30.97s/it]Downloading item 36905\n 78%|███████▊  | 113/145 [23:39<16:30, 30.95s/it]Downloading item 36906\n 79%|███████▊  | 114/145 [24:10<15:58, 30.91s/it]Downloading item 36907\n 79%|███████▉  | 115/145 [24:41<15:29, 30.99s/it]Downloading item 36908\n 80%|████████  | 116/145 [25:12<14:59, 31.02s/it]Downloading item 37921\n 81%|████████  | 117/145 [25:43<14:26, 30.96s/it]Downloading item 3818\n 81%|████████▏ | 118/145 [26:14<13:54, 30.92s/it]Downloading item 3819\n 82%|████████▏ | 119/145 [26:44<13:23, 30.89s/it]Downloading item 3820\n 83%|████████▎ | 120/145 [27:15<12:52, 30.89s/it]Downloading item 3821\n 83%|████████▎ | 121/145 [27:46<12:20, 30.86s/it]Downloading item 39970\n 84%|████████▍ | 122/145 [28:17<11:49, 30.85s/it]Downloading item 4625\n 85%|████████▍ | 123/145 [28:48<11:18, 30.85s/it]Downloading item 52983\n 86%|████████▌ | 124/145 [29:19<10:49, 30.91s/it]Downloading item 52984\n 86%|████████▌ | 125/145 [29:50<10:18, 30.95s/it]Downloading item 52985\n 87%|████████▋ | 126/145 [30:21<09:47, 30.94s/it]Downloading item 52986\n 88%|████████▊ | 127/145 [30:52<09:16, 30.92s/it]Downloading item 52987\n 88%|████████▊ | 128/145 [31:22<08:45, 30.89s/it]Downloading item 52988\n 89%|████████▉ | 129/145 [31:53<08:14, 30.90s/it]Downloading item 72234\n 90%|████████▉ | 130/145 [32:24<07:42, 30.86s/it]Downloading item 72235\n 90%|█████████ | 131/145 [32:55<07:11, 30.85s/it]Downloading item 72237\n 91%|█████████ | 132/145 [33:26<06:40, 30.84s/it]Downloading item 72238\n 92%|█████████▏| 133/145 [33:57<06:10, 30.84s/it]Downloading item 765\n 92%|█████████▏| 134/145 [34:28<05:39, 30.89s/it]Downloading item 785\n 93%|█████████▎| 135/145 [34:59<05:09, 30.91s/it]Downloading item 79010\n 94%|█████████▍| 136/145 [35:29<04:37, 30.87s/it]Downloading item 79011\n 94%|█████████▍| 137/145 [36:00<04:07, 30.89s/it]Downloading item 8153\n 95%|█████████▌| 138/145 [36:32<03:37, 31.09s/it]Downloading item 8831\n 96%|█████████▌| 139/145 [37:03<03:06, 31.05s/it]Downloading item 8836\n 97%|█████████▋| 140/145 [37:34<02:34, 30.99s/it]Downloading item 8838\n 97%|█████████▋| 141/145 [38:04<02:03, 30.91s/it]Downloading item 8839\n 98%|█████████▊| 142/145 [38:35<01:32, 30.90s/it]Downloading item 8845\n 99%|█████████▊| 143/145 [39:06<01:01, 30.93s/it]Downloading item 8846\n 99%|█████████▉| 144/145 [39:37<00:30, 30.89s/it]Downloading item 89639\n100%|██████████| 145/145 [40:08<00:00, 16.61s/it]\n"
    }
   ],
   "source": [
    "all_recipes = get_all_recipes()"
   ]
  },
  {
   "cell_type": "code",
   "execution_count": 26,
   "metadata": {},
   "outputs": [],
   "source": [
    "import networkx as nx\n",
    "\n",
    "def create_graph(reagent_dict):\n",
    "    G = nx.Graph()\n",
    "    # add nodes for each id:\n",
    "    for item in reagent_dict.keys():\n",
    "        G.add_node(item, name = reagent_dict[item][0])\n",
    "    for item in reagent_dict.keys():\n",
    "        reagent_lists = reagent_dict[item][1]\n",
    "        for reagent_list in reagent_lists:\n",
    "            for reagent in reagent_list:\n",
    "                component_id = reagent['id']\n",
    "                G.add_edge(item, component_id)\n",
    "    return G"
   ]
  },
  {
   "cell_type": "code",
   "execution_count": 35,
   "metadata": {},
   "outputs": [],
   "source": [
    "G = create_graph(all_recipes)\n",
    "name_dict = dict([(item_id, name[0]) for item_id, name in zip(all_recipes.keys(), all_recipes.values())])"
   ]
  },
  {
   "cell_type": "code",
   "execution_count": 47,
   "metadata": {
    "tags": []
   },
   "outputs": [
    {
     "output_type": "stream",
     "name": "stdout",
     "text": "ok\n"
    }
   ],
   "source": [
    "print('ok')"
   ]
  },
  {
   "cell_type": "code",
   "execution_count": null,
   "metadata": {},
   "outputs": [],
   "source": []
  }
 ],
 "metadata": {
  "language_info": {
   "codemirror_mode": {
    "name": "ipython",
    "version": 3
   },
   "file_extension": ".py",
   "mimetype": "text/x-python",
   "name": "python",
   "nbconvert_exporter": "python",
   "pygments_lexer": "ipython3",
   "version": "3.8.3-final"
  },
  "orig_nbformat": 2,
  "kernelspec": {
   "name": "python38364bitdatascienceconda300f746192a84251963f5f0c314d70c9",
   "display_name": "Python 3.8.3 64-bit ('datascience': conda)"
  }
 },
 "nbformat": 4,
 "nbformat_minor": 2
}