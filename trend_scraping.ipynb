{
 "cells": [
  {
   "cell_type": "code",
   "execution_count": 2,
   "metadata": {},
   "outputs": [],
   "source": [
    "import pandas as pd\n",
    "import numpy as np\n",
    "import requests\n",
    "import bs4\n",
    "import json\n",
    "import time\n",
    "from random import randint\n",
    "from tqdm import tqdm\n",
    "import os.path\n",
    "from os import listdir\n",
    "from os.path import isfile, join"
   ]
  },
  {
   "cell_type": "code",
   "execution_count": 3,
   "metadata": {},
   "outputs": [],
   "source": [
    "# Time between two scraps\n",
    "scrap_time = 120\n",
    "# Realm choice: 228 --> Outland EU\n",
    "realm = 228"
   ]
  },
  {
   "cell_type": "code",
   "execution_count": 8,
   "metadata": {},
   "outputs": [],
   "source": [
    "# Scrap cost trend from https://theunderminejournal.com/#eu/outland/category/alchemy\n",
    "# First get all potions / elixir / flasks from the list\n",
    "\n",
    "def create_alchemy_url(house):\n",
    "    return 'https://theunderminejournal.com/api/category.php?house={}&id=alchemy'.format(house)\n",
    "\n",
    "def create_herbalism_url(house):\n",
    "    return 'https://theunderminejournal.com/api/category.php?house={}&id=herbalism'.format(house)\n",
    "\n",
    "def get_alchemy_raw_json(house):\n",
    "    url = create_alchemy_url(house)\n",
    "    time.sleep(scrap_time + randint(0, 60))\n",
    "    return requests.get(url).text\n",
    "\n",
    "def get_herbalism_raw_json(house):\n",
    "    url = create_herbalism_url(house)\n",
    "    #time.sleep(scrap_time + randint(0, 60))\n",
    "    return requests.get(url).text\n",
    "\n",
    "def get_all_alchemy_recipes(house):\n",
    "    \"\"\"\n",
    "    Gets all alchemy recipes.\n",
    "    \"\"\"\n",
    "    raw_json = get_alchemy_raw_json(house)\n",
    "    parsed_json = json.loads(raw_json)\n",
    "    categories = parsed_json['results']\n",
    "    all_items = []\n",
    "    for category in categories:\n",
    "        if 'items' in category['data'].keys():\n",
    "            items = category['data']['items']\n",
    "            all_items.extend(items)\n",
    "    return all_items\n",
    "\n",
    "def get_all_herbalism_recipes(house):\n",
    "    \"\"\"\n",
    "    Gets all herbs.\n",
    "    \"\"\"\n",
    "    raw_json = get_herbalism_raw_json(house)\n",
    "    parsed_json = json.loads(raw_json)\n",
    "    categories = parsed_json['results']\n",
    "    all_items = []\n",
    "    for category in categories:\n",
    "        if 'items' in category['data'].keys():\n",
    "            items = category['data']['items']\n",
    "            all_items.extend(items)\n",
    "    return all_items\n",
    "\n",
    "# Second get trends for one product\n",
    "# In the Undermine Journal, we have several keys: 'stats', 'history', 'daily', 'monthly', 'auctions', 'globalnow', 'globalmonthly', 'region'\n",
    "# - stats is the global statistics on the product\n",
    "# - history contains the price and quantity for every hour the last 300 hours\n",
    "# - daily contains nothing\n",
    "# - contains the price and quantity for each day for the last ... days\n",
    "\n",
    "def create_product_url(house, item):\n",
    "    \"\"\"\n",
    "    Creates the url for a specific product based on:\n",
    "    - house: the realm\n",
    "    - item: the id of that product\n",
    "    \"\"\"\n",
    "    return \"https://theunderminejournal.com/api/item.php?house={}&item={}\".format(house, item)\n",
    "\n",
    "def get_product_raw_json(house, item):\n",
    "    \"\"\"\n",
    "    Get the raw JSON data for a specific item of a specific realm.\n",
    "    \"\"\"\n",
    "    url = create_product_url(house, item)\n",
    "    time.sleep(scrap_time + randint(0, 60))\n",
    "    return requests.get(url).text\n",
    "\n",
    "def get_product_monthly_df(house, item):\n",
    "    raw_json = get_product_raw_json(house, item)\n",
    "    parsed_json = json.loads(raw_json)\n",
    "    return transform_json_to_df(parsed_json)\n",
    "\n",
    "def get_df_from_file(file):\n",
    "    f = open(file, \"r\")\n",
    "    content = f.read()\n",
    "    f.close()\n",
    "    return transform_json_to_df(json.loads(json.loads(content)))\n",
    "\n",
    "def transform_json_to_df(parsed_json):\n",
    "    if 'monthly' in parsed_json.keys():\n",
    "        if type(parsed_json['monthly']) == list:\n",
    "            return pd.DataFrame(parsed_json['monthly'][0])\n",
    "        elif type(parsed_json['monthly']) == dict:\n",
    "            return pd.DataFrame(parsed_json['monthly'][list(parsed_json['monthly'].keys())[0]])\n",
    "    else:\n",
    "        return None\n",
    "\n",
    "# Third aggregate all trends in one dataframe\n",
    "\n",
    "def store_all_raw_json(house):\n",
    "    \"\"\"\n",
    "    Stores all the raw json in different files\n",
    "    \"\"\"\n",
    "    recipes = get_all_herbalism_recipes(house)\n",
    "    dataframes = []\n",
    "    for recipe in tqdm(recipes):\n",
    "        item = recipe['id']\n",
    "        if not os.path.isfile('./data/item_{}.json'.format(item)):\n",
    "            # Get raw JSON file and store it  \n",
    "            raw_json = get_product_raw_json(house, item)\n",
    "            with open('./data/item_{}.json'.format(item), 'w') as outfile:\n",
    "                json.dump(raw_json, outfile)\n",
    "\n",
    "\n",
    "def get_all_products(house):\n",
    "    \"\"\"\n",
    "    Get all products and aggregate them in a DataFrame\n",
    "    \"\"\"\n",
    "    recipes = get_all_alchemy_recipes(house)\n",
    "    dataframes = []\n",
    "    for recipe in tqdm(recipes):\n",
    "        item = recipe['id']\n",
    "        sub_dataframe = get_product_monthly_df(house, item)\n",
    "        if not sub_dataframe is None:\n",
    "            sub_dataframe = sub_dataframe.set_index('date')\n",
    "            sub_dataframe.columns = [el + '_' + str(item) for el in list(sub_dataframe.columns)]\n",
    "            dataframes.append(sub_dataframe)\n",
    "    return pd.concat(dataframes, axis=1), recipes\n",
    "\n",
    "def merge_items_in_df():\n",
    "    # Get all files from data\n",
    "    item_files = [f for f in listdir('./data/TimeSeries') if isfile(join('./data/TimeSeries', f))]\n",
    "    dataframes = []\n",
    "    for item_file in tqdm(item_files):\n",
    "        item_name = item_file[:-5].split('_')[-1]\n",
    "        sub_df = get_df_from_file('./data/TimeSeries/' + item_file)\n",
    "        if not sub_df is None:\n",
    "            sub_df = sub_df.set_index('date')\n",
    "            sub_df.columns = [el + '_' + str(item_name) for el in list(sub_df.columns)]\n",
    "            dataframes.append(sub_df)\n",
    "    return pd.concat(dataframes, axis=1)\n"
   ]
  },
  {
   "cell_type": "code",
   "execution_count": 9,
   "metadata": {
    "tags": []
   },
   "outputs": [
    {
     "output_type": "stream",
     "name": "stderr",
     "text": "100%|██████████| 145/145 [00:01<00:00, 130.23it/s]\n"
    },
    {
     "output_type": "execute_result",
     "data": {
      "text/plain": "            silver_109124  quantity_109124  silver_109125  quantity_109125  \\\n2014-12-12            113             6315            158             5592   \n2014-12-13            135             8463            151             5638   \n2014-12-14            131             9175            104             7967   \n2014-12-15            158             8666             86             7126   \n2014-12-16            122             4770            143             6142   \n...                   ...              ...            ...              ...   \n2020-07-08            305             1667            113             2007   \n2020-07-09            299             1709            219             2658   \n2020-07-10            250             2368            210             3180   \n2020-07-11            217             1787            175              417   \n2020-07-12            318             2433            259             4432   \n\n            silver_109126  quantity_109126  silver_109127  quantity_109127  \\\n2014-12-12            102             5580             58             7515   \n2014-12-13            119             6379             97             7380   \n2014-12-14            120             5697             89            11220   \n2014-12-15            142             6882            124             9793   \n2014-12-16            141             6672            103            10155   \n...                   ...              ...            ...              ...   \n2020-07-08            267             5583            865             1799   \n2020-07-09            262             5986            295             2399   \n2020-07-10            252             6071            290             1573   \n2020-07-11            217             4793            298             2140   \n2020-07-12            440             4042            276             2513   \n\n            silver_109128  quantity_109128  ...  silver_8838  quantity_8838  \\\n2014-12-12            113             6056  ...          177           3328   \n2014-12-13            109             7158  ...          175           4593   \n2014-12-14            141             8047  ...          162           4409   \n2014-12-15            105             8880  ...          159           2887   \n2014-12-16            168             8165  ...          152           2919   \n...                   ...              ...  ...          ...            ...   \n2020-07-08            318             2088  ...          972            614   \n2020-07-09            313             2655  ...          900            754   \n2020-07-10            300             3767  ...          900            768   \n2020-07-11            210             2416  ...          750            577   \n2020-07-12            475             5913  ...          750            557   \n\n            silver_8839  quantity_8839  silver_8845  quantity_8845  \\\n2014-12-12          695            777         1604            581   \n2014-12-13          633            636         1603            597   \n2014-12-14          327            981         1548            159   \n2014-12-15          324            647         1167            101   \n2014-12-16          473           1086         1200            105   \n...                 ...            ...          ...            ...   \n2020-07-08         3073            259         3331             90   \n2020-07-09         3072            268         2930            218   \n2020-07-10         3071            268        23339             25   \n2020-07-11         3070            204        23339             35   \n2020-07-12         3043            395        23339            249   \n\n            silver_8846  quantity_8846  silver_89639  quantity_89639  \n2014-12-12          385            377           198             454  \n2014-12-13          385            577           185             485  \n2014-12-14          454            757           144             513  \n2014-12-15          371            748           133              70  \n2014-12-16          368            870           132             249  \n...                 ...            ...           ...             ...  \n2020-07-08         1996            480          5000              41  \n2020-07-09         1896            423          5000              21  \n2020-07-10         1889            427          5000              35  \n2020-07-11         1893            296          5000              35  \n2020-07-12         1889            216          1000              27  \n\n[2033 rows x 290 columns]",
      "text/html": "<div>\n<style scoped>\n    .dataframe tbody tr th:only-of-type {\n        vertical-align: middle;\n    }\n\n    .dataframe tbody tr th {\n        vertical-align: top;\n    }\n\n    .dataframe thead th {\n        text-align: right;\n    }\n</style>\n<table border=\"1\" class=\"dataframe\">\n  <thead>\n    <tr style=\"text-align: right;\">\n      <th></th>\n      <th>silver_109124</th>\n      <th>quantity_109124</th>\n      <th>silver_109125</th>\n      <th>quantity_109125</th>\n      <th>silver_109126</th>\n      <th>quantity_109126</th>\n      <th>silver_109127</th>\n      <th>quantity_109127</th>\n      <th>silver_109128</th>\n      <th>quantity_109128</th>\n      <th>...</th>\n      <th>silver_8838</th>\n      <th>quantity_8838</th>\n      <th>silver_8839</th>\n      <th>quantity_8839</th>\n      <th>silver_8845</th>\n      <th>quantity_8845</th>\n      <th>silver_8846</th>\n      <th>quantity_8846</th>\n      <th>silver_89639</th>\n      <th>quantity_89639</th>\n    </tr>\n  </thead>\n  <tbody>\n    <tr>\n      <th>2014-12-12</th>\n      <td>113</td>\n      <td>6315</td>\n      <td>158</td>\n      <td>5592</td>\n      <td>102</td>\n      <td>5580</td>\n      <td>58</td>\n      <td>7515</td>\n      <td>113</td>\n      <td>6056</td>\n      <td>...</td>\n      <td>177</td>\n      <td>3328</td>\n      <td>695</td>\n      <td>777</td>\n      <td>1604</td>\n      <td>581</td>\n      <td>385</td>\n      <td>377</td>\n      <td>198</td>\n      <td>454</td>\n    </tr>\n    <tr>\n      <th>2014-12-13</th>\n      <td>135</td>\n      <td>8463</td>\n      <td>151</td>\n      <td>5638</td>\n      <td>119</td>\n      <td>6379</td>\n      <td>97</td>\n      <td>7380</td>\n      <td>109</td>\n      <td>7158</td>\n      <td>...</td>\n      <td>175</td>\n      <td>4593</td>\n      <td>633</td>\n      <td>636</td>\n      <td>1603</td>\n      <td>597</td>\n      <td>385</td>\n      <td>577</td>\n      <td>185</td>\n      <td>485</td>\n    </tr>\n    <tr>\n      <th>2014-12-14</th>\n      <td>131</td>\n      <td>9175</td>\n      <td>104</td>\n      <td>7967</td>\n      <td>120</td>\n      <td>5697</td>\n      <td>89</td>\n      <td>11220</td>\n      <td>141</td>\n      <td>8047</td>\n      <td>...</td>\n      <td>162</td>\n      <td>4409</td>\n      <td>327</td>\n      <td>981</td>\n      <td>1548</td>\n      <td>159</td>\n      <td>454</td>\n      <td>757</td>\n      <td>144</td>\n      <td>513</td>\n    </tr>\n    <tr>\n      <th>2014-12-15</th>\n      <td>158</td>\n      <td>8666</td>\n      <td>86</td>\n      <td>7126</td>\n      <td>142</td>\n      <td>6882</td>\n      <td>124</td>\n      <td>9793</td>\n      <td>105</td>\n      <td>8880</td>\n      <td>...</td>\n      <td>159</td>\n      <td>2887</td>\n      <td>324</td>\n      <td>647</td>\n      <td>1167</td>\n      <td>101</td>\n      <td>371</td>\n      <td>748</td>\n      <td>133</td>\n      <td>70</td>\n    </tr>\n    <tr>\n      <th>2014-12-16</th>\n      <td>122</td>\n      <td>4770</td>\n      <td>143</td>\n      <td>6142</td>\n      <td>141</td>\n      <td>6672</td>\n      <td>103</td>\n      <td>10155</td>\n      <td>168</td>\n      <td>8165</td>\n      <td>...</td>\n      <td>152</td>\n      <td>2919</td>\n      <td>473</td>\n      <td>1086</td>\n      <td>1200</td>\n      <td>105</td>\n      <td>368</td>\n      <td>870</td>\n      <td>132</td>\n      <td>249</td>\n    </tr>\n    <tr>\n      <th>...</th>\n      <td>...</td>\n      <td>...</td>\n      <td>...</td>\n      <td>...</td>\n      <td>...</td>\n      <td>...</td>\n      <td>...</td>\n      <td>...</td>\n      <td>...</td>\n      <td>...</td>\n      <td>...</td>\n      <td>...</td>\n      <td>...</td>\n      <td>...</td>\n      <td>...</td>\n      <td>...</td>\n      <td>...</td>\n      <td>...</td>\n      <td>...</td>\n      <td>...</td>\n      <td>...</td>\n    </tr>\n    <tr>\n      <th>2020-07-08</th>\n      <td>305</td>\n      <td>1667</td>\n      <td>113</td>\n      <td>2007</td>\n      <td>267</td>\n      <td>5583</td>\n      <td>865</td>\n      <td>1799</td>\n      <td>318</td>\n      <td>2088</td>\n      <td>...</td>\n      <td>972</td>\n      <td>614</td>\n      <td>3073</td>\n      <td>259</td>\n      <td>3331</td>\n      <td>90</td>\n      <td>1996</td>\n      <td>480</td>\n      <td>5000</td>\n      <td>41</td>\n    </tr>\n    <tr>\n      <th>2020-07-09</th>\n      <td>299</td>\n      <td>1709</td>\n      <td>219</td>\n      <td>2658</td>\n      <td>262</td>\n      <td>5986</td>\n      <td>295</td>\n      <td>2399</td>\n      <td>313</td>\n      <td>2655</td>\n      <td>...</td>\n      <td>900</td>\n      <td>754</td>\n      <td>3072</td>\n      <td>268</td>\n      <td>2930</td>\n      <td>218</td>\n      <td>1896</td>\n      <td>423</td>\n      <td>5000</td>\n      <td>21</td>\n    </tr>\n    <tr>\n      <th>2020-07-10</th>\n      <td>250</td>\n      <td>2368</td>\n      <td>210</td>\n      <td>3180</td>\n      <td>252</td>\n      <td>6071</td>\n      <td>290</td>\n      <td>1573</td>\n      <td>300</td>\n      <td>3767</td>\n      <td>...</td>\n      <td>900</td>\n      <td>768</td>\n      <td>3071</td>\n      <td>268</td>\n      <td>23339</td>\n      <td>25</td>\n      <td>1889</td>\n      <td>427</td>\n      <td>5000</td>\n      <td>35</td>\n    </tr>\n    <tr>\n      <th>2020-07-11</th>\n      <td>217</td>\n      <td>1787</td>\n      <td>175</td>\n      <td>417</td>\n      <td>217</td>\n      <td>4793</td>\n      <td>298</td>\n      <td>2140</td>\n      <td>210</td>\n      <td>2416</td>\n      <td>...</td>\n      <td>750</td>\n      <td>577</td>\n      <td>3070</td>\n      <td>204</td>\n      <td>23339</td>\n      <td>35</td>\n      <td>1893</td>\n      <td>296</td>\n      <td>5000</td>\n      <td>35</td>\n    </tr>\n    <tr>\n      <th>2020-07-12</th>\n      <td>318</td>\n      <td>2433</td>\n      <td>259</td>\n      <td>4432</td>\n      <td>440</td>\n      <td>4042</td>\n      <td>276</td>\n      <td>2513</td>\n      <td>475</td>\n      <td>5913</td>\n      <td>...</td>\n      <td>750</td>\n      <td>557</td>\n      <td>3043</td>\n      <td>395</td>\n      <td>23339</td>\n      <td>249</td>\n      <td>1889</td>\n      <td>216</td>\n      <td>1000</td>\n      <td>27</td>\n    </tr>\n  </tbody>\n</table>\n<p>2033 rows × 290 columns</p>\n</div>"
     },
     "metadata": {},
     "execution_count": 9
    }
   ],
   "source": [
    "merge_items_in_df()"
   ]
  },
  {
   "cell_type": "code",
   "execution_count": 5,
   "metadata": {
    "tags": []
   },
   "outputs": [
    {
     "output_type": "stream",
     "name": "stderr",
     "text": "100%|██████████| 92/92 [1:28:59<00:00, 58.03s/it]\n"
    }
   ],
   "source": [
    "# alchemy_df, recipes = get_all_products(realm)\n",
    "# store_all_raw_json(realm)"
   ]
  }
 ],
 "metadata": {
  "language_info": {
   "codemirror_mode": {
    "name": "ipython",
    "version": 3
   },
   "file_extension": ".py",
   "mimetype": "text/x-python",
   "name": "python",
   "nbconvert_exporter": "python",
   "pygments_lexer": "ipython3",
   "version": "3.8.3-final"
  },
  "orig_nbformat": 2,
  "kernelspec": {
   "name": "python38364bitdatascienceconda300f746192a84251963f5f0c314d70c9",
   "display_name": "Python 3.8.3 64-bit ('datascience': conda)"
  }
 },
 "nbformat": 4,
 "nbformat_minor": 2
}