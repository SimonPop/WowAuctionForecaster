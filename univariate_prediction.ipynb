{
 "metadata": {
  "language_info": {
   "codemirror_mode": {
    "name": "ipython",
    "version": 3
   },
   "file_extension": ".py",
   "mimetype": "text/x-python",
   "name": "python",
   "nbconvert_exporter": "python",
   "pygments_lexer": "ipython3",
   "version": "3.8.3-final"
  },
  "orig_nbformat": 2,
  "kernelspec": {
   "name": "python38364bitdatascienceconda300f746192a84251963f5f0c314d70c9",
   "display_name": "Python 3.8.3 64-bit ('datascience': conda)"
  }
 },
 "nbformat": 4,
 "nbformat_minor": 2,
 "cells": [
  {
   "cell_type": "code",
   "execution_count": 1,
   "metadata": {},
   "outputs": [],
   "source": [
    "import pandas as pd\n",
    "import seaborn as sns\n",
    "import numpy as np\n",
    "import matplotlib.pyplot as plt\n",
    "import torch\n",
    "import torch.nn as nn\n",
    "from data_preprocessing import *"
   ]
  },
  {
   "cell_type": "code",
   "execution_count": 2,
   "metadata": {},
   "outputs": [],
   "source": [
    "df = get_item_dataframe(2770)\n",
    "mktslvr_ts, qty_ts, month_ts = get_timeseries_from_dataframe(df)"
   ]
  },
  {
   "cell_type": "code",
   "execution_count": 14,
   "metadata": {},
   "outputs": [],
   "source": [
    "train_window = 14\n",
    "data_normalized = preprocess_timeseries(mktslvr_ts[15:])\n",
    "# Split Train / Test\n",
    "test_data_normalized = data_normalized[-len(data_normalized)//10:]\n",
    "train_data_normalized = data_normalized[: len(data_normalized)//10]\n",
    "# Convert to Tensors\n",
    "test_data_normalized = torch.cuda.FloatTensor(test_data_normalized).view(-1)\n",
    "train_data_normalized = torch.cuda.FloatTensor(train_data_normalized).view(-1)\n",
    "# Create sequences\n",
    "train_inout_seq = create_inout_sequences(train_data_normalized, train_window)"
   ]
  },
  {
   "cell_type": "code",
   "execution_count": 15,
   "metadata": {},
   "outputs": [],
   "source": [
    "cuda = torch.device('cuda')\n",
    "\n",
    "class LSTM(nn.Module):\n",
    "    def __init__(self, input_size=1, hidden_layer_size=100, output_size=1):\n",
    "        super().__init__()\n",
    "        self.hidden_layer_size = hidden_layer_size\n",
    "\n",
    "        self.lstm = nn.LSTM(input_size, hidden_layer_size)\n",
    "\n",
    "        self.linear = nn.Linear(hidden_layer_size, output_size)\n",
    "\n",
    "        self.hidden_cell = (torch.zeros(1,1,self.hidden_layer_size, device=cuda),\n",
    "                            torch.zeros(1,1,self.hidden_layer_size, device=cuda))\n",
    "\n",
    "    def forward(self, input_seq):\n",
    "        lstm_out, self.hidden_cell = self.lstm(input_seq.view(len(input_seq) ,1, -1), self.hidden_cell)\n",
    "        predictions = self.linear(lstm_out.view(len(input_seq), -1))\n",
    "        return predictions[-1]"
   ]
  },
  {
   "cell_type": "code",
   "execution_count": 16,
   "metadata": {},
   "outputs": [],
   "source": [
    "model = LSTM().cuda()\n",
    "loss_function = nn.MSELoss()\n",
    "optimizer = torch.optim.Adam(model.parameters(), lr=0.001)"
   ]
  },
  {
   "cell_type": "code",
   "execution_count": 17,
   "metadata": {
    "tags": []
   },
   "outputs": [
    {
     "output_type": "stream",
     "name": "stdout",
     "text": "epoch:   1 loss: 0.00000078\nepoch:   9 loss: 0.0000006715\n"
    }
   ],
   "source": [
    "# Training\n",
    "epochs = 10\n",
    "\n",
    "for i in range(epochs):\n",
    "    for seq, labels in train_inout_seq:\n",
    "        optimizer.zero_grad()\n",
    "        model.hidden_cell = (torch.zeros(1, 1, model.hidden_layer_size, device=cuda),\n",
    "                        torch.zeros(1, 1, model.hidden_layer_size, device=cuda))\n",
    "        y_pred = model(seq)\n",
    "\n",
    "        single_loss = loss_function(y_pred, labels)\n",
    "        single_loss.backward()\n",
    "        optimizer.step()\n",
    "\n",
    "    if i%25 == 1:\n",
    "        print(f'epoch: {i:3} loss: {single_loss.item():10.8f}')\n",
    "\n",
    "print(f'epoch: {i:3} loss: {single_loss.item():10.10f}')"
   ]
  },
  {
   "cell_type": "code",
   "execution_count": 18,
   "metadata": {
    "tags": []
   },
   "outputs": [],
   "source": [
    "ts1 = []\n",
    "ts2 = []\n",
    "for seq, labels in train_inout_seq:\n",
    "    y_pred = model(seq)\n",
    "    ts1.append(y_pred.data.cpu().numpy()[0])\n",
    "    ts2.append(labels.data.cpu().numpy()[0])"
   ]
  },
  {
   "cell_type": "code",
   "execution_count": 19,
   "metadata": {
    "tags": []
   },
   "outputs": [],
   "source": [
    "# Prediction with no tutor\n",
    "test_inputs = train_data_normalized.tolist()[-train_window:]\n",
    "\n",
    "model.eval()\n",
    "\n",
    "for i in range(len(test_data_normalized)):\n",
    "    seq = torch.cuda.FloatTensor(test_inputs[-train_window:])\n",
    "    with torch.no_grad():\n",
    "        model.hidden = (torch.zeros(1, 1, model.hidden_layer_size, device=cuda),\n",
    "                        torch.zeros(1, 1, model.hidden_layer_size, device=cuda))\n",
    "        test_inputs.append(model(seq).item())"
   ]
  },
  {
   "cell_type": "code",
   "execution_count": 20,
   "metadata": {},
   "outputs": [],
   "source": [
    "# Prediction with tutor\n",
    "test_seqs = create_inout_sequences(test_data_normalized, train_window)\n",
    "predictions = []\n",
    "targets = []\n",
    "model.eval()\n",
    "\n",
    "for seq, label in test_seqs:\n",
    "    # seq = torch.cuda.FloatTensor(test_inputs)\n",
    "    with torch.no_grad():\n",
    "        model.hidden = (torch.zeros(1, 1, model.hidden_layer_size, device=cuda),\n",
    "                        torch.zeros(1, 1, model.hidden_layer_size, device=cuda))\n",
    "        predictions.append(model(seq).item())\n",
    "        targets.append(label.item())"
   ]
  },
  {
   "cell_type": "code",
   "execution_count": 21,
   "metadata": {},
   "outputs": [
    {
     "output_type": "display_data",
     "data": {
      "text/plain": "<Figure size 432x288 with 1 Axes>",
      "image/svg+xml": "<?xml version=\"1.0\" encoding=\"utf-8\" standalone=\"no\"?>\r\n<!DOCTYPE svg PUBLIC \"-//W3C//DTD SVG 1.1//EN\"\r\n  \"http://www.w3.org/Graphics/SVG/1.1/DTD/svg11.dtd\">\r\n<!-- Created with matplotlib (https://matplotlib.org/) -->\r\n<svg height=\"248.518125pt\" version=\"1.1\" viewBox=\"0 0 374.232889 248.518125\" width=\"374.232889pt\" xmlns=\"http://www.w3.org/2000/svg\" xmlns:xlink=\"http://www.w3.org/1999/xlink\">\r\n <defs>\r\n  <style type=\"text/css\">\r\n*{stroke-linecap:butt;stroke-linejoin:round;}\r\n  </style>\r\n </defs>\r\n <g id=\"figure_1\">\r\n  <g id=\"patch_1\">\r\n   <path d=\"M 0 248.518125 \r\nL 374.232889 248.518125 \r\nL 374.232889 0 \r\nL 0 0 \r\nz\r\n\" style=\"fill:none;\"/>\r\n  </g>\r\n  <g id=\"axes_1\">\r\n   <g id=\"patch_2\">\r\n    <path d=\"M 30.103125 224.64 \r\nL 364.903125 224.64 \r\nL 364.903125 7.2 \r\nL 30.103125 7.2 \r\nz\r\n\" style=\"fill:#ffffff;\"/>\r\n   </g>\r\n   <g id=\"matplotlib.axis_1\">\r\n    <g id=\"xtick_1\">\r\n     <g id=\"line2d_1\">\r\n      <defs>\r\n       <path d=\"M 0 0 \r\nL 0 3.5 \r\n\" id=\"mae0b3388ae\" style=\"stroke:#000000;stroke-width:0.8;\"/>\r\n      </defs>\r\n      <g>\r\n       <use style=\"stroke:#000000;stroke-width:0.8;\" x=\"45.321307\" xlink:href=\"#mae0b3388ae\" y=\"224.64\"/>\r\n      </g>\r\n     </g>\r\n     <g id=\"text_1\">\r\n      <!-- 0 -->\r\n      <defs>\r\n       <path d=\"M 31.78125 66.40625 \r\nQ 24.171875 66.40625 20.328125 58.90625 \r\nQ 16.5 51.421875 16.5 36.375 \r\nQ 16.5 21.390625 20.328125 13.890625 \r\nQ 24.171875 6.390625 31.78125 6.390625 \r\nQ 39.453125 6.390625 43.28125 13.890625 \r\nQ 47.125 21.390625 47.125 36.375 \r\nQ 47.125 51.421875 43.28125 58.90625 \r\nQ 39.453125 66.40625 31.78125 66.40625 \r\nz\r\nM 31.78125 74.21875 \r\nQ 44.046875 74.21875 50.515625 64.515625 \r\nQ 56.984375 54.828125 56.984375 36.375 \r\nQ 56.984375 17.96875 50.515625 8.265625 \r\nQ 44.046875 -1.421875 31.78125 -1.421875 \r\nQ 19.53125 -1.421875 13.0625 8.265625 \r\nQ 6.59375 17.96875 6.59375 36.375 \r\nQ 6.59375 54.828125 13.0625 64.515625 \r\nQ 19.53125 74.21875 31.78125 74.21875 \r\nz\r\n\" id=\"DejaVuSans-48\"/>\r\n      </defs>\r\n      <g transform=\"translate(42.140057 239.238437)scale(0.1 -0.1)\">\r\n       <use xlink:href=\"#DejaVuSans-48\"/>\r\n      </g>\r\n     </g>\r\n    </g>\r\n    <g id=\"xtick_2\">\r\n     <g id=\"line2d_2\">\r\n      <g>\r\n       <use style=\"stroke:#000000;stroke-width:0.8;\" x=\"84.342286\" xlink:href=\"#mae0b3388ae\" y=\"224.64\"/>\r\n      </g>\r\n     </g>\r\n     <g id=\"text_2\">\r\n      <!-- 25 -->\r\n      <defs>\r\n       <path d=\"M 19.1875 8.296875 \r\nL 53.609375 8.296875 \r\nL 53.609375 0 \r\nL 7.328125 0 \r\nL 7.328125 8.296875 \r\nQ 12.9375 14.109375 22.625 23.890625 \r\nQ 32.328125 33.6875 34.8125 36.53125 \r\nQ 39.546875 41.84375 41.421875 45.53125 \r\nQ 43.3125 49.21875 43.3125 52.78125 \r\nQ 43.3125 58.59375 39.234375 62.25 \r\nQ 35.15625 65.921875 28.609375 65.921875 \r\nQ 23.96875 65.921875 18.8125 64.3125 \r\nQ 13.671875 62.703125 7.8125 59.421875 \r\nL 7.8125 69.390625 \r\nQ 13.765625 71.78125 18.9375 73 \r\nQ 24.125 74.21875 28.421875 74.21875 \r\nQ 39.75 74.21875 46.484375 68.546875 \r\nQ 53.21875 62.890625 53.21875 53.421875 \r\nQ 53.21875 48.921875 51.53125 44.890625 \r\nQ 49.859375 40.875 45.40625 35.40625 \r\nQ 44.1875 33.984375 37.640625 27.21875 \r\nQ 31.109375 20.453125 19.1875 8.296875 \r\nz\r\n\" id=\"DejaVuSans-50\"/>\r\n       <path d=\"M 10.796875 72.90625 \r\nL 49.515625 72.90625 \r\nL 49.515625 64.59375 \r\nL 19.828125 64.59375 \r\nL 19.828125 46.734375 \r\nQ 21.96875 47.46875 24.109375 47.828125 \r\nQ 26.265625 48.1875 28.421875 48.1875 \r\nQ 40.625 48.1875 47.75 41.5 \r\nQ 54.890625 34.8125 54.890625 23.390625 \r\nQ 54.890625 11.625 47.5625 5.09375 \r\nQ 40.234375 -1.421875 26.90625 -1.421875 \r\nQ 22.3125 -1.421875 17.546875 -0.640625 \r\nQ 12.796875 0.140625 7.71875 1.703125 \r\nL 7.71875 11.625 \r\nQ 12.109375 9.234375 16.796875 8.0625 \r\nQ 21.484375 6.890625 26.703125 6.890625 \r\nQ 35.15625 6.890625 40.078125 11.328125 \r\nQ 45.015625 15.765625 45.015625 23.390625 \r\nQ 45.015625 31 40.078125 35.4375 \r\nQ 35.15625 39.890625 26.703125 39.890625 \r\nQ 22.75 39.890625 18.8125 39.015625 \r\nQ 14.890625 38.140625 10.796875 36.28125 \r\nz\r\n\" id=\"DejaVuSans-53\"/>\r\n      </defs>\r\n      <g transform=\"translate(77.979786 239.238437)scale(0.1 -0.1)\">\r\n       <use xlink:href=\"#DejaVuSans-50\"/>\r\n       <use x=\"63.623047\" xlink:href=\"#DejaVuSans-53\"/>\r\n      </g>\r\n     </g>\r\n    </g>\r\n    <g id=\"xtick_3\">\r\n     <g id=\"line2d_3\">\r\n      <g>\r\n       <use style=\"stroke:#000000;stroke-width:0.8;\" x=\"123.363265\" xlink:href=\"#mae0b3388ae\" y=\"224.64\"/>\r\n      </g>\r\n     </g>\r\n     <g id=\"text_3\">\r\n      <!-- 50 -->\r\n      <g transform=\"translate(117.000765 239.238437)scale(0.1 -0.1)\">\r\n       <use xlink:href=\"#DejaVuSans-53\"/>\r\n       <use x=\"63.623047\" xlink:href=\"#DejaVuSans-48\"/>\r\n      </g>\r\n     </g>\r\n    </g>\r\n    <g id=\"xtick_4\">\r\n     <g id=\"line2d_4\">\r\n      <g>\r\n       <use style=\"stroke:#000000;stroke-width:0.8;\" x=\"162.384244\" xlink:href=\"#mae0b3388ae\" y=\"224.64\"/>\r\n      </g>\r\n     </g>\r\n     <g id=\"text_4\">\r\n      <!-- 75 -->\r\n      <defs>\r\n       <path d=\"M 8.203125 72.90625 \r\nL 55.078125 72.90625 \r\nL 55.078125 68.703125 \r\nL 28.609375 0 \r\nL 18.3125 0 \r\nL 43.21875 64.59375 \r\nL 8.203125 64.59375 \r\nz\r\n\" id=\"DejaVuSans-55\"/>\r\n      </defs>\r\n      <g transform=\"translate(156.021744 239.238437)scale(0.1 -0.1)\">\r\n       <use xlink:href=\"#DejaVuSans-55\"/>\r\n       <use x=\"63.623047\" xlink:href=\"#DejaVuSans-53\"/>\r\n      </g>\r\n     </g>\r\n    </g>\r\n    <g id=\"xtick_5\">\r\n     <g id=\"line2d_5\">\r\n      <g>\r\n       <use style=\"stroke:#000000;stroke-width:0.8;\" x=\"201.405223\" xlink:href=\"#mae0b3388ae\" y=\"224.64\"/>\r\n      </g>\r\n     </g>\r\n     <g id=\"text_5\">\r\n      <!-- 100 -->\r\n      <defs>\r\n       <path d=\"M 12.40625 8.296875 \r\nL 28.515625 8.296875 \r\nL 28.515625 63.921875 \r\nL 10.984375 60.40625 \r\nL 10.984375 69.390625 \r\nL 28.421875 72.90625 \r\nL 38.28125 72.90625 \r\nL 38.28125 8.296875 \r\nL 54.390625 8.296875 \r\nL 54.390625 0 \r\nL 12.40625 0 \r\nz\r\n\" id=\"DejaVuSans-49\"/>\r\n      </defs>\r\n      <g transform=\"translate(191.861473 239.238437)scale(0.1 -0.1)\">\r\n       <use xlink:href=\"#DejaVuSans-49\"/>\r\n       <use x=\"63.623047\" xlink:href=\"#DejaVuSans-48\"/>\r\n       <use x=\"127.246094\" xlink:href=\"#DejaVuSans-48\"/>\r\n      </g>\r\n     </g>\r\n    </g>\r\n    <g id=\"xtick_6\">\r\n     <g id=\"line2d_6\">\r\n      <g>\r\n       <use style=\"stroke:#000000;stroke-width:0.8;\" x=\"240.426202\" xlink:href=\"#mae0b3388ae\" y=\"224.64\"/>\r\n      </g>\r\n     </g>\r\n     <g id=\"text_6\">\r\n      <!-- 125 -->\r\n      <g transform=\"translate(230.882452 239.238437)scale(0.1 -0.1)\">\r\n       <use xlink:href=\"#DejaVuSans-49\"/>\r\n       <use x=\"63.623047\" xlink:href=\"#DejaVuSans-50\"/>\r\n       <use x=\"127.246094\" xlink:href=\"#DejaVuSans-53\"/>\r\n      </g>\r\n     </g>\r\n    </g>\r\n    <g id=\"xtick_7\">\r\n     <g id=\"line2d_7\">\r\n      <g>\r\n       <use style=\"stroke:#000000;stroke-width:0.8;\" x=\"279.447181\" xlink:href=\"#mae0b3388ae\" y=\"224.64\"/>\r\n      </g>\r\n     </g>\r\n     <g id=\"text_7\">\r\n      <!-- 150 -->\r\n      <g transform=\"translate(269.903431 239.238437)scale(0.1 -0.1)\">\r\n       <use xlink:href=\"#DejaVuSans-49\"/>\r\n       <use x=\"63.623047\" xlink:href=\"#DejaVuSans-53\"/>\r\n       <use x=\"127.246094\" xlink:href=\"#DejaVuSans-48\"/>\r\n      </g>\r\n     </g>\r\n    </g>\r\n    <g id=\"xtick_8\">\r\n     <g id=\"line2d_8\">\r\n      <g>\r\n       <use style=\"stroke:#000000;stroke-width:0.8;\" x=\"318.46816\" xlink:href=\"#mae0b3388ae\" y=\"224.64\"/>\r\n      </g>\r\n     </g>\r\n     <g id=\"text_8\">\r\n      <!-- 175 -->\r\n      <g transform=\"translate(308.92441 239.238437)scale(0.1 -0.1)\">\r\n       <use xlink:href=\"#DejaVuSans-49\"/>\r\n       <use x=\"63.623047\" xlink:href=\"#DejaVuSans-55\"/>\r\n       <use x=\"127.246094\" xlink:href=\"#DejaVuSans-53\"/>\r\n      </g>\r\n     </g>\r\n    </g>\r\n    <g id=\"xtick_9\">\r\n     <g id=\"line2d_9\">\r\n      <g>\r\n       <use style=\"stroke:#000000;stroke-width:0.8;\" x=\"357.489139\" xlink:href=\"#mae0b3388ae\" y=\"224.64\"/>\r\n      </g>\r\n     </g>\r\n     <g id=\"text_9\">\r\n      <!-- 200 -->\r\n      <g transform=\"translate(347.945389 239.238437)scale(0.1 -0.1)\">\r\n       <use xlink:href=\"#DejaVuSans-50\"/>\r\n       <use x=\"63.623047\" xlink:href=\"#DejaVuSans-48\"/>\r\n       <use x=\"127.246094\" xlink:href=\"#DejaVuSans-48\"/>\r\n      </g>\r\n     </g>\r\n    </g>\r\n   </g>\r\n   <g id=\"matplotlib.axis_2\">\r\n    <g id=\"ytick_1\">\r\n     <g id=\"line2d_10\">\r\n      <defs>\r\n       <path d=\"M 0 0 \r\nL -3.5 0 \r\n\" id=\"m07b3dcf8f5\" style=\"stroke:#000000;stroke-width:0.8;\"/>\r\n      </defs>\r\n      <g>\r\n       <use style=\"stroke:#000000;stroke-width:0.8;\" x=\"30.103125\" xlink:href=\"#m07b3dcf8f5\" y=\"197.857173\"/>\r\n      </g>\r\n     </g>\r\n     <g id=\"text_10\">\r\n      <!-- 0.0 -->\r\n      <defs>\r\n       <path d=\"M 10.6875 12.40625 \r\nL 21 12.40625 \r\nL 21 0 \r\nL 10.6875 0 \r\nz\r\n\" id=\"DejaVuSans-46\"/>\r\n      </defs>\r\n      <g transform=\"translate(7.2 201.656392)scale(0.1 -0.1)\">\r\n       <use xlink:href=\"#DejaVuSans-48\"/>\r\n       <use x=\"63.623047\" xlink:href=\"#DejaVuSans-46\"/>\r\n       <use x=\"95.410156\" xlink:href=\"#DejaVuSans-48\"/>\r\n      </g>\r\n     </g>\r\n    </g>\r\n    <g id=\"ytick_2\">\r\n     <g id=\"line2d_11\">\r\n      <g>\r\n       <use style=\"stroke:#000000;stroke-width:0.8;\" x=\"30.103125\" xlink:href=\"#m07b3dcf8f5\" y=\"161.702466\"/>\r\n      </g>\r\n     </g>\r\n     <g id=\"text_11\">\r\n      <!-- 0.2 -->\r\n      <g transform=\"translate(7.2 165.501684)scale(0.1 -0.1)\">\r\n       <use xlink:href=\"#DejaVuSans-48\"/>\r\n       <use x=\"63.623047\" xlink:href=\"#DejaVuSans-46\"/>\r\n       <use x=\"95.410156\" xlink:href=\"#DejaVuSans-50\"/>\r\n      </g>\r\n     </g>\r\n    </g>\r\n    <g id=\"ytick_3\">\r\n     <g id=\"line2d_12\">\r\n      <g>\r\n       <use style=\"stroke:#000000;stroke-width:0.8;\" x=\"30.103125\" xlink:href=\"#m07b3dcf8f5\" y=\"125.547758\"/>\r\n      </g>\r\n     </g>\r\n     <g id=\"text_12\">\r\n      <!-- 0.4 -->\r\n      <defs>\r\n       <path d=\"M 37.796875 64.3125 \r\nL 12.890625 25.390625 \r\nL 37.796875 25.390625 \r\nz\r\nM 35.203125 72.90625 \r\nL 47.609375 72.90625 \r\nL 47.609375 25.390625 \r\nL 58.015625 25.390625 \r\nL 58.015625 17.1875 \r\nL 47.609375 17.1875 \r\nL 47.609375 0 \r\nL 37.796875 0 \r\nL 37.796875 17.1875 \r\nL 4.890625 17.1875 \r\nL 4.890625 26.703125 \r\nz\r\n\" id=\"DejaVuSans-52\"/>\r\n      </defs>\r\n      <g transform=\"translate(7.2 129.346977)scale(0.1 -0.1)\">\r\n       <use xlink:href=\"#DejaVuSans-48\"/>\r\n       <use x=\"63.623047\" xlink:href=\"#DejaVuSans-46\"/>\r\n       <use x=\"95.410156\" xlink:href=\"#DejaVuSans-52\"/>\r\n      </g>\r\n     </g>\r\n    </g>\r\n    <g id=\"ytick_4\">\r\n     <g id=\"line2d_13\">\r\n      <g>\r\n       <use style=\"stroke:#000000;stroke-width:0.8;\" x=\"30.103125\" xlink:href=\"#m07b3dcf8f5\" y=\"89.393051\"/>\r\n      </g>\r\n     </g>\r\n     <g id=\"text_13\">\r\n      <!-- 0.6 -->\r\n      <defs>\r\n       <path d=\"M 33.015625 40.375 \r\nQ 26.375 40.375 22.484375 35.828125 \r\nQ 18.609375 31.296875 18.609375 23.390625 \r\nQ 18.609375 15.53125 22.484375 10.953125 \r\nQ 26.375 6.390625 33.015625 6.390625 \r\nQ 39.65625 6.390625 43.53125 10.953125 \r\nQ 47.40625 15.53125 47.40625 23.390625 \r\nQ 47.40625 31.296875 43.53125 35.828125 \r\nQ 39.65625 40.375 33.015625 40.375 \r\nz\r\nM 52.59375 71.296875 \r\nL 52.59375 62.3125 \r\nQ 48.875 64.0625 45.09375 64.984375 \r\nQ 41.3125 65.921875 37.59375 65.921875 \r\nQ 27.828125 65.921875 22.671875 59.328125 \r\nQ 17.53125 52.734375 16.796875 39.40625 \r\nQ 19.671875 43.65625 24.015625 45.921875 \r\nQ 28.375 48.1875 33.59375 48.1875 \r\nQ 44.578125 48.1875 50.953125 41.515625 \r\nQ 57.328125 34.859375 57.328125 23.390625 \r\nQ 57.328125 12.15625 50.6875 5.359375 \r\nQ 44.046875 -1.421875 33.015625 -1.421875 \r\nQ 20.359375 -1.421875 13.671875 8.265625 \r\nQ 6.984375 17.96875 6.984375 36.375 \r\nQ 6.984375 53.65625 15.1875 63.9375 \r\nQ 23.390625 74.21875 37.203125 74.21875 \r\nQ 40.921875 74.21875 44.703125 73.484375 \r\nQ 48.484375 72.75 52.59375 71.296875 \r\nz\r\n\" id=\"DejaVuSans-54\"/>\r\n      </defs>\r\n      <g transform=\"translate(7.2 93.19227)scale(0.1 -0.1)\">\r\n       <use xlink:href=\"#DejaVuSans-48\"/>\r\n       <use x=\"63.623047\" xlink:href=\"#DejaVuSans-46\"/>\r\n       <use x=\"95.410156\" xlink:href=\"#DejaVuSans-54\"/>\r\n      </g>\r\n     </g>\r\n    </g>\r\n    <g id=\"ytick_5\">\r\n     <g id=\"line2d_14\">\r\n      <g>\r\n       <use style=\"stroke:#000000;stroke-width:0.8;\" x=\"30.103125\" xlink:href=\"#m07b3dcf8f5\" y=\"53.238344\"/>\r\n      </g>\r\n     </g>\r\n     <g id=\"text_14\">\r\n      <!-- 0.8 -->\r\n      <defs>\r\n       <path d=\"M 31.78125 34.625 \r\nQ 24.75 34.625 20.71875 30.859375 \r\nQ 16.703125 27.09375 16.703125 20.515625 \r\nQ 16.703125 13.921875 20.71875 10.15625 \r\nQ 24.75 6.390625 31.78125 6.390625 \r\nQ 38.8125 6.390625 42.859375 10.171875 \r\nQ 46.921875 13.96875 46.921875 20.515625 \r\nQ 46.921875 27.09375 42.890625 30.859375 \r\nQ 38.875 34.625 31.78125 34.625 \r\nz\r\nM 21.921875 38.8125 \r\nQ 15.578125 40.375 12.03125 44.71875 \r\nQ 8.5 49.078125 8.5 55.328125 \r\nQ 8.5 64.0625 14.71875 69.140625 \r\nQ 20.953125 74.21875 31.78125 74.21875 \r\nQ 42.671875 74.21875 48.875 69.140625 \r\nQ 55.078125 64.0625 55.078125 55.328125 \r\nQ 55.078125 49.078125 51.53125 44.71875 \r\nQ 48 40.375 41.703125 38.8125 \r\nQ 48.828125 37.15625 52.796875 32.3125 \r\nQ 56.78125 27.484375 56.78125 20.515625 \r\nQ 56.78125 9.90625 50.3125 4.234375 \r\nQ 43.84375 -1.421875 31.78125 -1.421875 \r\nQ 19.734375 -1.421875 13.25 4.234375 \r\nQ 6.78125 9.90625 6.78125 20.515625 \r\nQ 6.78125 27.484375 10.78125 32.3125 \r\nQ 14.796875 37.15625 21.921875 38.8125 \r\nz\r\nM 18.3125 54.390625 \r\nQ 18.3125 48.734375 21.84375 45.5625 \r\nQ 25.390625 42.390625 31.78125 42.390625 \r\nQ 38.140625 42.390625 41.71875 45.5625 \r\nQ 45.3125 48.734375 45.3125 54.390625 \r\nQ 45.3125 60.0625 41.71875 63.234375 \r\nQ 38.140625 66.40625 31.78125 66.40625 \r\nQ 25.390625 66.40625 21.84375 63.234375 \r\nQ 18.3125 60.0625 18.3125 54.390625 \r\nz\r\n\" id=\"DejaVuSans-56\"/>\r\n      </defs>\r\n      <g transform=\"translate(7.2 57.037562)scale(0.1 -0.1)\">\r\n       <use xlink:href=\"#DejaVuSans-48\"/>\r\n       <use x=\"63.623047\" xlink:href=\"#DejaVuSans-46\"/>\r\n       <use x=\"95.410156\" xlink:href=\"#DejaVuSans-56\"/>\r\n      </g>\r\n     </g>\r\n    </g>\r\n    <g id=\"ytick_6\">\r\n     <g id=\"line2d_15\">\r\n      <g>\r\n       <use style=\"stroke:#000000;stroke-width:0.8;\" x=\"30.103125\" xlink:href=\"#m07b3dcf8f5\" y=\"17.083636\"/>\r\n      </g>\r\n     </g>\r\n     <g id=\"text_15\">\r\n      <!-- 1.0 -->\r\n      <g transform=\"translate(7.2 20.882855)scale(0.1 -0.1)\">\r\n       <use xlink:href=\"#DejaVuSans-49\"/>\r\n       <use x=\"63.623047\" xlink:href=\"#DejaVuSans-46\"/>\r\n       <use x=\"95.410156\" xlink:href=\"#DejaVuSans-48\"/>\r\n      </g>\r\n     </g>\r\n    </g>\r\n   </g>\r\n   <g id=\"line2d_16\">\r\n    <path clip-path=\"url(#p2bb88cc688)\" d=\"M 45.321307 196.814944 \r\nL 46.882146 197.179976 \r\nL 48.442985 196.989601 \r\nL 50.003824 197.025486 \r\nL 53.125503 196.843738 \r\nL 71.855573 196.81309 \r\nL 73.416412 196.933508 \r\nL 79.659768 196.770601 \r\nL 81.220608 214.756364 \r\nL 82.781447 204.727511 \r\nL 84.342286 200.157897 \r\nL 85.903125 198.195514 \r\nL 87.463964 197.222395 \r\nL 89.024803 196.973533 \r\nL 92.146482 196.781299 \r\nL 93.707321 196.980749 \r\nL 96.828999 196.821056 \r\nL 98.389838 196.795942 \r\nL 99.950677 196.891482 \r\nL 101.511517 196.830854 \r\nL 103.072356 196.889908 \r\nL 106.194034 196.861618 \r\nL 110.876552 196.816541 \r\nL 112.437391 196.950055 \r\nL 113.99823 196.904312 \r\nL 115.559069 197.072889 \r\nL 118.680747 196.865637 \r\nL 129.606622 196.854796 \r\nL 135.849978 196.824282 \r\nL 153.019209 196.847103 \r\nL 154.580048 196.808617 \r\nL 157.701726 196.900926 \r\nL 165.505922 196.84689 \r\nL 170.18844 196.859145 \r\nL 171.749279 196.821092 \r\nL 173.310118 196.941072 \r\nL 179.553475 196.841675 \r\nL 201.405223 196.920003 \r\nL 202.966062 196.981264 \r\nL 204.526901 196.85419 \r\nL 220.135293 196.812478 \r\nL 229.500328 196.837644 \r\nL 232.622006 196.936575 \r\nL 237.304524 196.815816 \r\nL 243.54788 196.862572 \r\nL 245.108719 196.999871 \r\nL 249.791237 196.846448 \r\nL 252.912915 196.795267 \r\nL 254.473754 196.89608 \r\nL 257.595433 196.861514 \r\nL 259.156272 196.942946 \r\nL 263.838789 196.828464 \r\nL 265.399628 196.808714 \r\nL 266.960468 197.091635 \r\nL 270.082146 196.843916 \r\nL 276.325503 196.864103 \r\nL 279.447181 196.871872 \r\nL 281.00802 196.930704 \r\nL 285.690538 196.797968 \r\nL 288.812216 196.982169 \r\nL 290.373055 197.055343 \r\nL 293.494733 196.828499 \r\nL 296.616412 196.829491 \r\nL 305.981447 196.825426 \r\nL 309.103125 196.893567 \r\nL 312.224803 196.818128 \r\nL 313.785642 197.127436 \r\nL 315.346482 196.912584 \r\nL 334.076552 196.838426 \r\nL 345.002426 196.84745 \r\nL 349.684943 196.847484 \r\nL 349.684943 196.847484 \r\n\" style=\"fill:none;stroke:#1f77b4;stroke-linecap:square;stroke-width:1.5;\"/>\r\n   </g>\r\n   <g id=\"line2d_17\">\r\n    <path clip-path=\"url(#p2bb88cc688)\" d=\"M 45.321307 193.502211 \r\nL 46.882146 197.175404 \r\nL 48.442985 195.857166 \r\nL 50.003824 197.4784 \r\nL 51.564663 197.234773 \r\nL 53.125503 197.162208 \r\nL 54.686342 196.760457 \r\nL 56.247181 197.24799 \r\nL 57.80802 196.883555 \r\nL 59.368859 197.384689 \r\nL 60.929698 196.991381 \r\nL 62.490538 197.023503 \r\nL 64.051377 196.854507 \r\nL 65.612216 197.249544 \r\nL 67.173055 197.389103 \r\nL 68.733894 197.265991 \r\nL 70.294733 197.287059 \r\nL 71.855573 196.039775 \r\nL 73.416412 197.072792 \r\nL 74.977251 197.001556 \r\nL 76.53809 197.200676 \r\nL 78.098929 197.857173 \r\nL 79.659768 17.083636 \r\nL 81.220608 197.006907 \r\nL 82.781447 197.185101 \r\nL 84.342286 195.586134 \r\nL 85.903125 197.476471 \r\nL 87.463964 196.400223 \r\nL 89.024803 197.191361 \r\nL 90.585642 197.461199 \r\nL 92.146482 195.270637 \r\nL 93.707321 197.408174 \r\nL 96.828999 197.452755 \r\nL 98.389838 196.369121 \r\nL 99.950677 197.458185 \r\nL 101.511517 196.5701 \r\nL 103.072356 197.541962 \r\nL 104.633195 196.808075 \r\nL 106.194034 197.223172 \r\nL 109.315712 197.305161 \r\nL 110.876552 195.88005 \r\nL 112.437391 196.980255 \r\nL 113.99823 195.005877 \r\nL 115.559069 197.347017 \r\nL 117.119908 197.195279 \r\nL 118.680747 196.814568 \r\nL 120.241587 197.635762 \r\nL 121.802426 197.035951 \r\nL 123.363265 196.259183 \r\nL 124.924104 196.420277 \r\nL 126.484943 197.30283 \r\nL 128.045782 197.082751 \r\nL 129.606622 197.30203 \r\nL 131.167461 196.492974 \r\nL 132.7283 197.470402 \r\nL 135.849978 197.111966 \r\nL 137.410817 197.088915 \r\nL 138.971656 196.924956 \r\nL 140.532496 197.549006 \r\nL 142.093335 196.138898 \r\nL 143.654174 197.084675 \r\nL 145.215013 197.470402 \r\nL 146.775852 195.77952 \r\nL 148.336691 197.107063 \r\nL 149.897531 197.255969 \r\nL 151.45837 197.080798 \r\nL 153.019209 197.470402 \r\nL 154.580048 196.441847 \r\nL 159.262566 197.426779 \r\nL 162.384244 197.120757 \r\nL 163.945083 197.017619 \r\nL 165.505922 196.723661 \r\nL 167.066761 196.969482 \r\nL 168.627601 197.080798 \r\nL 170.18844 197.400273 \r\nL 171.749279 195.984623 \r\nL 173.310118 197.080798 \r\nL 174.870957 196.743324 \r\nL 176.431796 197.498163 \r\nL 177.992635 197.035447 \r\nL 181.114314 197.124529 \r\nL 182.675153 197.04289 \r\nL 184.235992 197.193261 \r\nL 190.479349 196.950228 \r\nL 192.040188 197.297245 \r\nL 193.601027 196.975904 \r\nL 195.161866 197.419776 \r\nL 196.722705 196.831451 \r\nL 198.283545 197.234278 \r\nL 199.844384 196.286887 \r\nL 201.405223 196.039426 \r\nL 202.966062 197.626244 \r\nL 204.526901 196.953527 \r\nL 206.08774 196.971396 \r\nL 207.64858 197.116039 \r\nL 209.209419 197.449897 \r\nL 210.770258 196.878204 \r\nL 212.331097 195.590407 \r\nL 213.891936 197.265515 \r\nL 215.452775 196.885996 \r\nL 217.013615 197.294524 \r\nL 218.574454 197.399844 \r\nL 220.135293 197.350924 \r\nL 221.696132 197.152358 \r\nL 223.256971 197.124574 \r\nL 224.81781 196.904548 \r\nL 227.939489 197.230921 \r\nL 229.500328 196.469828 \r\nL 231.061167 196.415741 \r\nL 232.622006 197.222716 \r\nL 235.743684 197.332758 \r\nL 237.304524 197.260085 \r\nL 238.865363 196.892713 \r\nL 240.426202 197.095228 \r\nL 241.987041 196.933777 \r\nL 243.54788 195.578039 \r\nL 245.108719 197.080798 \r\nL 248.230398 197.19545 \r\nL 249.791237 197.486584 \r\nL 251.352076 197.418455 \r\nL 252.912915 196.338258 \r\nL 254.473754 197.245089 \r\nL 256.034594 196.967783 \r\nL 257.595433 196.156137 \r\nL 259.156272 197.187701 \r\nL 260.717111 197.419464 \r\nL 262.27795 197.168459 \r\nL 263.838789 197.388091 \r\nL 265.399628 194.38075 \r\nL 266.960468 197.407497 \r\nL 268.521307 197.454678 \r\nL 270.082146 196.765084 \r\nL 271.642985 197.324599 \r\nL 273.203824 196.77468 \r\nL 276.325503 197.158719 \r\nL 277.886342 196.821062 \r\nL 279.447181 196.332147 \r\nL 281.00802 197.2756 \r\nL 282.568859 197.130148 \r\nL 284.129698 197.588254 \r\nL 285.690538 196.897922 \r\nL 287.251377 195.670495 \r\nL 288.812216 195.568217 \r\nL 290.373055 197.334041 \r\nL 291.933894 197.546014 \r\nL 293.494733 196.716976 \r\nL 295.055573 197.360063 \r\nL 296.616412 197.339519 \r\nL 298.177251 197.085355 \r\nL 299.73809 197.401648 \r\nL 301.298929 196.983397 \r\nL 302.859768 196.994219 \r\nL 304.420608 197.342612 \r\nL 305.981447 196.451798 \r\nL 307.542286 196.847035 \r\nL 310.663964 197.458099 \r\nL 312.224803 194.043475 \r\nL 313.785642 197.717151 \r\nL 315.346482 196.638066 \r\nL 316.907321 197.199373 \r\nL 318.46816 197.194016 \r\nL 320.028999 196.301589 \r\nL 321.589838 196.710674 \r\nL 323.150677 197.65662 \r\nL 324.711517 197.080798 \r\nL 326.272356 195.279511 \r\nL 327.833195 197.181637 \r\nL 329.394034 196.975499 \r\nL 330.954873 197.040601 \r\nL 332.515712 197.23958 \r\nL 334.076552 197.269137 \r\nL 335.637391 197.105148 \r\nL 343.441587 197.080798 \r\nL 349.684943 197.080798 \r\nL 349.684943 197.080798 \r\n\" style=\"fill:none;stroke:#ff7f0e;stroke-linecap:square;stroke-width:1.5;\"/>\r\n   </g>\r\n   <g id=\"patch_3\">\r\n    <path d=\"M 30.103125 224.64 \r\nL 30.103125 7.2 \r\n\" style=\"fill:none;stroke:#000000;stroke-linecap:square;stroke-linejoin:miter;stroke-width:0.8;\"/>\r\n   </g>\r\n   <g id=\"patch_4\">\r\n    <path d=\"M 364.903125 224.64 \r\nL 364.903125 7.2 \r\n\" style=\"fill:none;stroke:#000000;stroke-linecap:square;stroke-linejoin:miter;stroke-width:0.8;\"/>\r\n   </g>\r\n   <g id=\"patch_5\">\r\n    <path d=\"M 30.103125 224.64 \r\nL 364.903125 224.64 \r\n\" style=\"fill:none;stroke:#000000;stroke-linecap:square;stroke-linejoin:miter;stroke-width:0.8;\"/>\r\n   </g>\r\n   <g id=\"patch_6\">\r\n    <path d=\"M 30.103125 7.2 \r\nL 364.903125 7.2 \r\n\" style=\"fill:none;stroke:#000000;stroke-linecap:square;stroke-linejoin:miter;stroke-width:0.8;\"/>\r\n   </g>\r\n  </g>\r\n </g>\r\n <defs>\r\n  <clipPath id=\"p2bb88cc688\">\r\n   <rect height=\"217.44\" width=\"334.8\" x=\"30.103125\" y=\"7.2\"/>\r\n  </clipPath>\r\n </defs>\r\n</svg>\r\n",
      "image/png": "[encoded data removed]"
     },
     "metadata": {
      "needs_background": "light"
     }
    }
   ],
   "source": [
    "# plt.plot(test_inputs)\n",
    "plt.plot(predictions)\n",
    "# plt.plot(test_data_normalized.tolist())\n",
    "plt.plot(targets)\n",
    "plt.show()"
   ]
  }
 ]
}